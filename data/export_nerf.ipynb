{
 "cells": [
  {
   "cell_type": "code",
   "execution_count": 8,
   "metadata": {},
   "outputs": [],
   "source": [
    "import os, sys\n",
    "import numpy as np\n",
    "import imageio\n",
    "import json\n",
    "import random\n",
    "import time\n",
    "import torch\n",
    "import torch.nn as nn\n",
    "import torch.nn.functional as F\n",
    "from torch.utils.tensorboard import SummaryWriter\n",
    "from tqdm import tqdm, trange\n",
    "\n",
    "import matplotlib.pyplot as plt\n",
    "\n",
    "from run_nerf_helpers import *\n",
    "from ray_utils import *\n",
    "from layers.point_sampling import *\n",
    "from layers.camera_transform import *\n",
    "\n",
    "from load_llff import load_llff_data\n",
    "from load_deepvoxels import load_dv_data\n",
    "from load_blender import load_blender_data"
   ]
  },
  {
   "cell_type": "code",
   "execution_count": 17,
   "metadata": {},
   "outputs": [
    {
     "name": "stdout",
     "output_type": "stream",
     "text": [
      "/data/new_disk/wangph/nerf-pytorch/data/nerf_llff_data/orchids\n",
      "Loaded image data (378, 504, 3, 25) [378.         504.         390.57784585]\n",
      "Loaded ./data/nerf_llff_data/orchids 14.48833973008133 124.51196423745613\n",
      "recentered (3, 5)\n",
      "[[ 1.00000000e+00  1.68170561e-10 -3.61509422e-09  5.96046434e-10]\n",
      " [-1.68170602e-10  1.00000000e+00 -1.26528299e-08 -1.07288365e-08]\n",
      " [ 3.61509422e-09  1.26528299e-08  1.00000000e+00 -2.98023217e-10]]\n",
      "Data:\n",
      "(25, 3, 5) (25, 378, 504, 3) (25, 2)\n",
      "HOLDOUT view is 12\n",
      "Loaded llff (25, 378, 504, 3) (120, 3, 5) [378.      504.      390.57785] ./data/nerf_llff_data/orchids\n",
      "[ 1  2  3  4  5  6  7  9 10 11 12 13 14 15 17 18 19 20 21 22 23] [ 0  8 16 24]\n",
      "DEFINING BOUNDS\n",
      "NEAR FAR 1.200000035762787 11.458590507507324\n"
     ]
    }
   ],
   "source": [
    "datadir = './llff_orchid/orchids'\n",
    "print(os.path.abspath(datadir))\n",
    "images, poses, bds, planes, render_poses, i_test = load_llff_data(\n",
    "    datadir, plane_name='',\n",
    "    factor=8, recenter=True, bd_factor=.75, spherify=False\n",
    ")\n",
    "hwf = poses[0,:3,-1]\n",
    "poses = poses[:,:3,:4]\n",
    "print('Loaded llff', images.shape, render_poses.shape, hwf, datadir)\n",
    "\n",
    "i_test = np.arange(images.shape[0])[::8]\n",
    "\n",
    "i_val = i_test\n",
    "i_train = np.array([i for i in np.arange(int(images.shape[0])) if\n",
    "                (i not in i_test and i not in i_val)])\n",
    "\n",
    "print(i_train, i_test)\n",
    "\n",
    "print('DEFINING BOUNDS')\n",
    "near = np.ndarray.min(bds) * .9\n",
    "far = np.ndarray.max(bds) * 1.\n",
    "\n",
    "print('NEAR FAR', near, far)"
   ]
  },
  {
   "cell_type": "code",
   "execution_count": 5,
   "metadata": {},
   "outputs": [],
   "source": [
    "# Cast intrinsics to right types\n",
    "H, W, focal = hwf\n",
    "H, W = int(H), int(W)\n",
    "hwf = [H, W, focal]"
   ]
  },
  {
   "cell_type": "code",
   "execution_count": 9,
   "metadata": {},
   "outputs": [],
   "source": [
    "# Prepare raybatch tensor if batching random rays\n",
    "def prepare_batch(i_sel):\n",
    "    N_rand = 1024\n",
    "    no_camera_id = False\n",
    "\n",
    "    # For random ray batching\n",
    "    train_poses, train_imgs = poses[i_sel], images[i_sel]\n",
    "\n",
    "    rays = np.stack([get_rays_np(H, W, focal, p) for p in train_poses[:,:3,:4]], 0) # [N, ro+rd, H, W, 3]\n",
    "    print('done, concats', rays.shape, train_imgs[:,None,...].shape)\n",
    "\n",
    "    rays_rgb = np.concatenate([rays, train_imgs[:,None,...]], 1) # [N, ro+rd+rgb, H, W, 3]\n",
    "    rays_rgb = np.transpose(rays_rgb, [0,2,3,1,4]) # [N, H, W, ro+rd+rgb, 3]\n",
    "    rays_rgb = rays_rgb.astype(np.float32)\n",
    "\n",
    "    print('done', rays_rgb.shape)\n",
    "\n",
    "    return rays_rgb"
   ]
  },
  {
   "cell_type": "code",
   "execution_count": 10,
   "metadata": {},
   "outputs": [
    {
     "name": "stdout",
     "output_type": "stream",
     "text": [
      "done, concats (21, 2, 378, 504, 3) (21, 1, 378, 504, 3)\n",
      "done (21, 378, 504, 3, 3)\n",
      "(21, 378, 504, 2, 3) (21, 378, 504, 3)\n"
     ]
    }
   ],
   "source": [
    "rays_rgb = prepare_batch(i_train)\n",
    "rays = rays_rgb[..., :2, :]\n",
    "rgbs = rays_rgb[..., 2, :]\n",
    "print(rays.shape, rgbs.shape)"
   ]
  },
  {
   "cell_type": "code",
   "execution_count": 16,
   "metadata": {},
   "outputs": [
    {
     "name": "stdout",
     "output_type": "stream",
     "text": [
      "Check rays size: (4, 378, 504, 2, 3)\n",
      "Save to training set to ./data/nerf_llff_data/orchids/rays_train.npy\n",
      "Check rgbs size: (4, 378, 504, 3)\n",
      "Save to training set to ./data/nerf_llff_data/orchids/rgbs_train.npy\n"
     ]
    }
   ],
   "source": [
    "print(\"Check rays size:\", rays.shape)\n",
    "output_path = os.path.join(datadir, 'rays_train.npy')\n",
    "np.save(output_path, rays)\n",
    "print(\"Save to training set to %s\" % output_path)\n",
    "\n",
    "print(\"Check rgbs size:\", rgbs.shape)\n",
    "output_path = os.path.join(datadir, 'rgbs_train.npy')\n",
    "np.save(output_path, rgbs)\n",
    "print(\"Save to training set to %s\" % output_path)"
   ]
  },
  {
   "cell_type": "code",
   "execution_count": 12,
   "metadata": {},
   "outputs": [
    {
     "name": "stdout",
     "output_type": "stream",
     "text": [
      "done, concats (4, 2, 378, 504, 3) (4, 1, 378, 504, 3)\n",
      "done (4, 378, 504, 3, 3)\n",
      "(4, 378, 504, 2, 3) (4, 378, 504, 3)\n"
     ]
    }
   ],
   "source": [
    "rays_rgb = prepare_batch(i_test)\n",
    "rays = rays_rgb[..., :2, :]\n",
    "rgbs = rays_rgb[..., 2, :]\n",
    "print(rays.shape, rgbs.shape)"
   ]
  },
  {
   "cell_type": "code",
   "execution_count": 13,
   "metadata": {},
   "outputs": [
    {
     "name": "stdout",
     "output_type": "stream",
     "text": [
      "Check rays size: (4, 378, 504, 2, 3)\n",
      "Save to testing set to ./data/nerf_llff_data/orchids/rays_test.npy\n",
      "Check rgbs size: (4, 378, 504, 3)\n",
      "Save to testing set to ./data/nerf_llff_data/orchids/rgbs_test.npy\n"
     ]
    }
   ],
   "source": [
    "print(\"Check rays size:\", rays.shape)\n",
    "output_path = os.path.join(datadir, 'rays_test.npy')\n",
    "np.save(output_path, rays)\n",
    "print(\"Save to testing set to %s\" % output_path)\n",
    "\n",
    "print(\"Check rgbs size:\", rgbs.shape)\n",
    "output_path = os.path.join(datadir, 'rgbs_test.npy')\n",
    "np.save(output_path, rgbs)\n",
    "print(\"Save to testing set to %s\" % output_path)"
   ]
  },
  {
   "cell_type": "code",
   "execution_count": 14,
   "metadata": {},
   "outputs": [
    {
     "name": "stdout",
     "output_type": "stream",
     "text": [
      "done, concats (120, 378, 504, 2, 3)\n",
      "Check rays size: (120, 378, 504, 2, 3)\n",
      "Save to testing set to ./data/nerf_llff_data/orchids/rays_exhibit.npy\n"
     ]
    }
   ],
   "source": [
    "render_rays = np.stack([get_rays_np(H, W, focal, p) for p in render_poses[:,:3,:4]], 0) # [N, ro+rd, H, W, 3]\n",
    "render_rays = np.transpose(render_rays, [0,2,3,1,4]) # [N, H, W, ro+rd, 3]\n",
    "print('done, concats', render_rays.shape)\n",
    "\n",
    "print(\"Check rays size:\", render_rays.shape)\n",
    "output_path = os.path.join(datadir, 'rays_exhibit.npy')\n",
    "np.save(output_path, render_rays)\n",
    "print(\"Save to testing set to %s\" % output_path)"
   ]
  },
  {
   "cell_type": "code",
   "execution_count": 15,
   "metadata": {},
   "outputs": [
    {
     "name": "stdout",
     "output_type": "stream",
     "text": [
      "Save to meta data to ./data/nerf_llff_data/orchids/meta.json\n"
     ]
    }
   ],
   "source": [
    "import json\n",
    "meta_dict = {\n",
    "    'near': 1.200000035762787,\n",
    "    'far': 11.458590507507324\n",
    "}\n",
    "\n",
    "output_path = os.path.join(datadir, 'meta.json')\n",
    "with open(output_path, 'w') as f:\n",
    "    json.dump(meta_dict, f)\n",
    "    print(\"Save to meta data to %s\" % output_path)"
   ]
  },
  {
   "cell_type": "code",
   "execution_count": null,
   "metadata": {},
   "outputs": [],
   "source": []
  }
 ],
 "metadata": {
  "kernelspec": {
   "display_name": "nerf (python 3.7)",
   "language": "python",
   "name": "nerf-python37"
  },
  "language_info": {
   "codemirror_mode": {
    "name": "ipython",
    "version": 3
   },
   "file_extension": ".py",
   "mimetype": "text/x-python",
   "name": "python",
   "nbconvert_exporter": "python",
   "pygments_lexer": "ipython3",
   "version": "3.7.7"
  }
 },
 "nbformat": 4,
 "nbformat_minor": 4
}